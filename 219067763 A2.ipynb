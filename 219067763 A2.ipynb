{
 "cells": [
  {
   "cell_type": "markdown",
   "metadata": {
    "colab_type": "text",
    "id": "06bbe_5WGk3v"
   },
   "source": [
    "#**SIT 720 - Machine Learning**\n",
    "\n",
    "Lecturer: Chandan Karmakar | karmakar@deakin.edu.au\n",
    "\n",
    "School of Information Technology,\n",
    "<br/>Deakin University, VIC 3125, Australia."
   ]
  },
  {
   "cell_type": "markdown",
   "metadata": {
    "colab_type": "text",
    "id": "es6VJF6zGpZi"
   },
   "source": [
    "#**Assessment Task 2 (30 marks)**\n",
    "\n",
    "##**Submission Instruction**\n",
    "1.  Student should insert Python code or text responses into the cell followed by the question.\n",
    "\n",
    "2.  For answers regarding discussion or explanation, **maximum five sentences are suggested**.\n",
    "\n",
    "3.  Rename this notebook file appending your student ID. For example, for student ID 1234, the submitted file name should be A2_1234.ipynb.\n",
    "\n",
    "4.  Insert your student ID and name in the following cell."
   ]
  },
  {
   "cell_type": "code",
   "execution_count": 1,
   "metadata": {
    "colab": {},
    "colab_type": "code",
    "id": "IeD67KEpG8I6"
   },
   "outputs": [],
   "source": [
    "# Student ID: 219067763\n",
    "\n",
    "# Student name: yuxing wang"
   ]
  },
  {
   "cell_type": "markdown",
   "metadata": {
    "colab_type": "text",
    "id": "oYFXM_D7HCHb"
   },
   "source": [
    "## Part 1: Clustering *(15 marks)*\n",
    "\n",
    "Let's assume you want to design an environment to predict a class/category from a dataset based on specific features of that class. However, all the features are not strong enough or in other words features not that much variance/uniqueness across the classes. So, you have to design a clustering model by answering the following questions:\n",
    "\n",
    "1. Download the attached clustering.csv file. Read the file and separate the class and feature matrix. __(2 marks)__"
   ]
  },
  {
   "cell_type": "code",
   "execution_count": 1,
   "metadata": {
    "colab": {},
    "colab_type": "code",
    "id": "crKN9O9jKi4w"
   },
   "outputs": [],
   "source": [
    "import numpy as np\n",
    "import matplotlib.pyplot as plt\n",
    "import pandas as pd\n",
    "\n",
    "df=pd.read_csv('clustering.csv')\n",
    "\n",
    "df_matrix=df.values\n",
    "# Class matrix\n",
    "class_df=pd.DataFrame(df.Class)\n",
    "class_matrix=class_df.values\n",
    "\n",
    "# Feature matrix\n",
    "feature_matrix=df.iloc[:,df.columns!='Class'].values"
   ]
  },
  {
   "cell_type": "markdown",
   "metadata": {
    "colab_type": "text",
    "id": "3CYvoztIKjoq"
   },
   "source": [
    "2. Determine the number of clusters from the dataset. Is this same as the actual number of classes in the dataset? __(1 marks)__\n",
    "\n",
    "<!-- Choose the best three features using different selection criteria (ANOVA, Chi-squared) based on the purity score for the k-mean cluster (Euclidean distance matrix). Which one is good and why? __(5 marks)__ -->"
   ]
  },
  {
   "cell_type": "code",
   "execution_count": 2,
   "metadata": {
    "colab": {},
    "colab_type": "code",
    "id": "WFia7uNt5POP"
   },
   "outputs": [],
   "source": [
    "from sklearn.cluster import KMeans\n",
    "\n",
    "distortions = []\n",
    "K = range(1,10)\n",
    "for k in K:\n",
    "    kmeanModel = KMeans(n_clusters=k)\n",
    "    kmeanModel.fit(feature_matrix)\n",
    "    distortions.append(kmeanModel.inertia_)"
   ]
  },
  {
   "cell_type": "code",
   "execution_count": 3,
   "metadata": {},
   "outputs": [
    {
     "data": {
      "image/png": "[encoded data removed]",
      "text/plain": [
       "<Figure size 576x360 with 1 Axes>"
      ]
     },
     "metadata": {
      "needs_background": "light"
     },
     "output_type": "display_data"
    }
   ],
   "source": [
    "plt.figure(figsize=(8,5))\n",
    "plt.plot(K, distortions, 'bx-')\n",
    "plt.xlabel('k')\n",
    "plt.ylabel('Distortion')\n",
    "plt.title('The Elbow Method showing the optimal k')\n",
    "plt.show()"
   ]
  },
  {
   "cell_type": "markdown",
   "metadata": {},
   "source": [
    "The optimal numbers of clusters in this case is 3, this is because of when the point of k = 3 is reached, the degree of distortion will be greatly improved, and then slowly decrease, this critical point can be considered as a point with better clustering performance. It is same as the actual number of classes in the dataset."
   ]
  },
  {
   "cell_type": "markdown",
   "metadata": {
    "colab_type": "text",
    "id": "lomdzPf33Ga8"
   },
   "source": [
    "3. Perform K-Means clustering on the complete dataset and report purity score. __(2 marks)__ "
   ]
  },
  {
   "cell_type": "code",
   "execution_count": 4,
   "metadata": {},
   "outputs": [
    {
     "name": "stdout",
     "output_type": "stream",
     "text": [
      "purity score is: 0.8952380952380953\n"
     ]
    }
   ],
   "source": [
    "from sklearn import metrics\n",
    "\n",
    "kmeanModel = KMeans(n_clusters=3)\n",
    "kmeanModel.fit(feature_matrix)\n",
    "cluster_labels = kmeanModel.predict(feature_matrix)\n",
    "\n",
    "def purity_score(class_matrix_true,class_matrix_pred):\n",
    "    #compute contingency matrix\n",
    "    contingency_matrix = metrics.cluster.contingency_matrix(class_matrix_true,class_matrix_pred)\n",
    "    #return purity score\n",
    "    return np.sum(np.amax(contingency_matrix,axis=0)) / np.sum(contingency_matrix)\n",
    "\n",
    "print(\"purity score is: {}\".format(purity_score(class_matrix,cluster_labels)))"
   ]
  },
  {
   "cell_type": "markdown",
   "metadata": {
    "colab_type": "text",
    "id": "CsImMLOzK1dV"
   },
   "source": [
    "4. There are several distance metrics for  K-Means such as euclidean, squared euclidean, Manhattan, Chebyshev, Minkowski. [ __Hints:__ See the pyclustering library for python.]\n",
    "    - Your job is to compare the purity score of k-means clustering for different distance metrics. __(5 marks)__ \n",
    "    - Select the best distance metric and explain why this distance metric is best for the given dataset. __(2 marks)__ "
   ]
  },
  {
   "cell_type": "code",
   "execution_count": 5,
   "metadata": {
    "colab": {},
    "colab_type": "code",
    "id": "dBNLhGYRKo4a"
   },
   "outputs": [],
   "source": [
    "#!pip install pyclustering\n",
    "from pyclustering.cluster.kmeans import kmeans\n",
    "from pyclustering.utils.metric import type_metric, distance_metric\n",
    "from pyclustering.cluster.center_initializer import kmeans_plusplus_initializer\n",
    "\n",
    "#prepare initial centers\n",
    "initial_centers = kmeans_plusplus_initializer(feature_matrix,3).initialize()"
   ]
  },
  {
   "cell_type": "code",
   "execution_count": 7,
   "metadata": {},
   "outputs": [],
   "source": [
    "?distance_metric"
   ]
  },
  {
   "cell_type": "code",
   "execution_count": 6,
   "metadata": {},
   "outputs": [
    {
     "name": "stdout",
     "output_type": "stream",
     "text": [
      "purity score is: 0.8761904761904762\n"
     ]
    }
   ],
   "source": [
    "# Manhattan\n",
    "\n",
    "#create metric\n",
    "Manhattan_metric = distance_metric (type_metric.MANHATTAN)\n",
    "#create instance\n",
    "kmeans_instance = kmeans(feature_matrix,initial_centers,metric=Manhattan_metric)\n",
    "#run cluster analysis and obtain results\n",
    "kmeans_instance.process()\n",
    "\n",
    "#purity score of k-means clustering \n",
    "cluster_Manhattan = kmeans_instance.predict(feature_matrix)\n",
    "print(\"purity score is: {}\".format(purity_score(class_matrix,cluster_Manhattan)))"
   ]
  },
  {
   "cell_type": "code",
   "execution_count": 7,
   "metadata": {},
   "outputs": [
    {
     "name": "stdout",
     "output_type": "stream",
     "text": [
      "purity score is: 0.8857142857142857\n"
     ]
    }
   ],
   "source": [
    "# Euclidean\n",
    "\n",
    "#create metric\n",
    "Euclidean_metric = distance_metric (type_metric.EUCLIDEAN)\n",
    "#create instance\n",
    "kmeans_instance = kmeans(feature_matrix,initial_centers,metric=Euclidean_metric)\n",
    "#run cluster analysis and obtain results\n",
    "kmeans_instance.process()\n",
    "\n",
    "#purity score of k-means clustering \n",
    "cluster_Euclidean = kmeans_instance.predict(feature_matrix)\n",
    "print(\"purity score is: {}\".format(purity_score(class_matrix,cluster_Euclidean)))"
   ]
  },
  {
   "cell_type": "code",
   "execution_count": 8,
   "metadata": {},
   "outputs": [
    {
     "name": "stdout",
     "output_type": "stream",
     "text": [
      "purity score is: 0.8904761904761904\n"
     ]
    }
   ],
   "source": [
    "# Squared euclidean\n",
    "\n",
    "#create metric\n",
    "Squared_euclidean_metric = distance_metric (type_metric.EUCLIDEAN_SQUARE)\n",
    "#create instance\n",
    "kmeans_instance = kmeans(feature_matrix,initial_centers,metric=Squared_euclidean_metric)\n",
    "#run cluster analysis and obtain results\n",
    "kmeans_instance.process()\n",
    "\n",
    "#purity score of k-means clustering \n",
    "cluster_Squared_euclidean = kmeans_instance.predict(feature_matrix)\n",
    "print(\"purity score is: {}\".format(purity_score(class_matrix,cluster_Squared_euclidean)))"
   ]
  },
  {
   "cell_type": "code",
   "execution_count": 9,
   "metadata": {},
   "outputs": [
    {
     "name": "stdout",
     "output_type": "stream",
     "text": [
      "purity score is: 0.8761904761904762\n"
     ]
    }
   ],
   "source": [
    "#Chebyshev\n",
    "\n",
    "#create metric\n",
    "Chebyshev_metric = distance_metric (type_metric.CHEBYSHEV)\n",
    "#create instance\n",
    "kmeans_instance = kmeans(feature_matrix,initial_centers,metric=Chebyshev_metric)\n",
    "#run cluster analysis and obtain results\n",
    "kmeans_instance.process()\n",
    "\n",
    "#purity score of k-means clustering \n",
    "cluster_Chebyshev = kmeans_instance.predict(feature_matrix)\n",
    "print(\"purity score is: {}\".format(purity_score(class_matrix,cluster_Chebyshev)))"
   ]
  },
  {
   "cell_type": "code",
   "execution_count": 10,
   "metadata": {},
   "outputs": [
    {
     "name": "stdout",
     "output_type": "stream",
     "text": [
      "purity score is: 0.8857142857142857\n"
     ]
    }
   ],
   "source": [
    "#Minkowski\n",
    "\n",
    "#create metric\n",
    "Minkowski_metric = distance_metric (type_metric.MINKOWSKI,degree=2)\n",
    "#create instance\n",
    "kmeans_instance = kmeans(feature_matrix,initial_centers,metric=Minkowski_metric)\n",
    "#run cluster analysis and obtain results\n",
    "kmeans_instance.process()\n",
    "\n",
    "#purity score of k-means clustering \n",
    "cluster_Minkowski = kmeans_instance.predict(feature_matrix)\n",
    "print(\"purity score is: {}\".format(purity_score(class_matrix,cluster_Minkowski)))"
   ]
  },
  {
   "cell_type": "markdown",
   "metadata": {},
   "source": [
    "The best distance metric is Minkowski and Euclidean because the highest purity score equal to 0.9047619047619048 among each metrics."
   ]
  },
  {
   "cell_type": "markdown",
   "metadata": {
    "colab_type": "text",
    "id": "xsG5SQti4b7E"
   },
   "source": [
    "5. Use selection criteria (ANOVA, Chi-squared) to select best three features and use them for K-Means clustering. Based on the purity score which feature set are you going to recommend and why? __(3 marks)__"
   ]
  },
  {
   "cell_type": "code",
   "execution_count": 11,
   "metadata": {
    "colab": {},
    "colab_type": "code",
    "id": "9lCTzujBKpL4"
   },
   "outputs": [],
   "source": [
    "from sklearn.feature_selection import SelectKBest\n",
    "from sklearn.feature_selection import chi2\n",
    "from sklearn.feature_selection import f_classif"
   ]
  },
  {
   "cell_type": "code",
   "execution_count": 12,
   "metadata": {
    "scrolled": true
   },
   "outputs": [
    {
     "name": "stdout",
     "output_type": "stream",
     "text": [
      "purity score is: 0.8952380952380953\n"
     ]
    }
   ],
   "source": [
    "#use chi-squared to select best 3 features\n",
    "best_features1= SelectKBest(chi2, k=3).fit(feature_matrix, class_matrix) \n",
    "best_features = best_features1.transform(feature_matrix)\n",
    "\n",
    "#kmeans model using best 3 features\n",
    "kmeanModel = KMeans(n_clusters=3)\n",
    "kmeanModel.fit(best_features)\n",
    "cluster_best1 = kmeanModel.predict(best_features)\n",
    "#purity score\n",
    "print(\"purity score is: {}\".format(purity_score(class_matrix,cluster_best1)))"
   ]
  },
  {
   "cell_type": "code",
   "execution_count": 13,
   "metadata": {},
   "outputs": [
    {
     "name": "stdout",
     "output_type": "stream",
     "text": [
      "purity score is: 0.8428571428571429\n"
     ]
    }
   ],
   "source": [
    "#use ANOVA to select best 3 features\n",
    "best_features2= SelectKBest(f_classif, k=3).fit_transform(feature_matrix,class_matrix.ravel())\n",
    "\n",
    "#kmeans model using best 3 features\n",
    "kmeanModel = KMeans(n_clusters=3)\n",
    "kmeanModel.fit(best_features2)\n",
    "cluster_best2 = kmeanModel.predict(best_features2)\n",
    "#purity score\n",
    "print(\"purity score is: {}\".format(purity_score(class_matrix,cluster_best2)))"
   ]
  },
  {
   "cell_type": "code",
   "execution_count": 14,
   "metadata": {},
   "outputs": [
    {
     "data": {
      "text/plain": [
       "Index(['height', 'length', 'max'], dtype='object')"
      ]
     },
     "execution_count": 14,
     "metadata": {},
     "output_type": "execute_result"
    }
   ],
   "source": [
    "#chi-squared\n",
    "#best features sets\n",
    "best_features = best_features1.transform(feature_matrix)\n",
    "df.columns[:-1][best_features1.get_support()]"
   ]
  },
  {
   "cell_type": "markdown",
   "metadata": {
    "colab_type": "text",
    "id": "Key1p4RKLEW9"
   },
   "source": [
    "# Part-2 (Dimensionality Reduction using PCA/SVD) *(15 marks)*\n",
    "\n",
    "1. For the dataset (clustering.csv), perform PCA.\n",
    "    - plot the captured variance with respect to increasing latent dimensionality. __(2.5 marks)__\n",
    "  \n",
    "  What is the minimum dimension that captures:\n",
    "    - at least 89% variance? __(1.5 marks)__\n",
    "    - at least 99% variance? __(1 marks)__"
   ]
  },
  {
   "cell_type": "code",
   "execution_count": 27,
   "metadata": {
    "colab": {},
    "colab_type": "code",
    "id": "EkJU33yYKpen",
    "scrolled": true
   },
   "outputs": [
    {
     "name": "stdout",
     "output_type": "stream",
     "text": [
      "[78.9  91.81 98.68 99.62 99.89 99.98 99.99]\n"
     ]
    },
    {
     "data": {
      "text/plain": [
       "Text(0, 0.5, 'Variance captured')"
      ]
     },
     "execution_count": 27,
     "metadata": {},
     "output_type": "execute_result"
    },
    {
     "data": {
      "image/png": "[encoded data removed]",
      "text/plain": [
       "<Figure size 432x288 with 1 Axes>"
      ]
     },
     "metadata": {
      "needs_background": "light"
     },
     "output_type": "display_data"
    }
   ],
   "source": [
    "from sklearn import decomposition\n",
    "from sklearn.decomposition import PCA\n",
    "from sklearn.preprocessing import MinMaxScaler\n",
    "# Data Normalisation\n",
    "feature_matrix2 = MinMaxScaler().fit_transform(feature_matrix)\n",
    "\n",
    "# PCA model and the variance that each PC explains\n",
    "pca = PCA(n_components= 7)\n",
    "pca.fit(feature_matrix2)\n",
    "var = pca.explained_variance_ratio_\n",
    "\n",
    "# Cumulative Variance explains\n",
    "var1=np.cumsum(np.round(pca.explained_variance_ratio_, decimals=4)*100)\n",
    "print(var1)\n",
    "\n",
    "plt.plot(var1)\n",
    "plt.xlabel(\"Principal components\")\n",
    "plt.ylabel(\"Variance captured\")"
   ]
  },
  {
   "cell_type": "code",
   "execution_count": 28,
   "metadata": {},
   "outputs": [
    {
     "name": "stdout",
     "output_type": "stream",
     "text": [
      "2\n"
     ]
    }
   ],
   "source": [
    "# At least 89% variance\n",
    "pca = decomposition.PCA(n_components=0.89)\n",
    "pca.fit(feature_matrix2)\n",
    "print(pca.n_components_)"
   ]
  },
  {
   "cell_type": "code",
   "execution_count": 29,
   "metadata": {},
   "outputs": [
    {
     "name": "stdout",
     "output_type": "stream",
     "text": [
      "4\n"
     ]
    }
   ],
   "source": [
    "# At least 99% variance\n",
    "pca = decomposition.PCA(n_components=0.99)\n",
    "pca.fit(feature_matrix2)\n",
    "print(pca.n_components_)"
   ]
  },
  {
   "cell_type": "markdown",
   "metadata": {
    "colab_type": "text",
    "id": "x9JPYP0vLKzp"
   },
   "source": [
    "2. Determine the purity of clusters formed by the number of principal components which captured 89% and 99% variances respectively. Plot a line graph of the purity scores against the captured variances. Discuss your findings. __(7 marks)__"
   ]
  },
  {
   "cell_type": "code",
   "execution_count": 26,
   "metadata": {},
   "outputs": [],
   "source": [
    "purity_scores = []\n",
    "capture_variances = []"
   ]
  },
  {
   "cell_type": "code",
   "execution_count": 31,
   "metadata": {},
   "outputs": [],
   "source": [
    "# 89%\n",
    "pca = decomposition.PCA(n_components=3)\n",
    "new_feature = pca.fit_transform(feature_matrix2)\n",
    "\n",
    "new_kmeans = KMeans(n_clusters = 3)\n",
    "new_kmeans.fit(new_feature)\n",
    "new_cluster = new_kmeans.predict(new_feature)\n",
    "\n",
    "purity_scores.append(purity_score(class_matrix,new_cluster))\n",
    "capture_variances.append(sum(pca.explained_variance_ratio_))"
   ]
  },
  {
   "cell_type": "code",
   "execution_count": 32,
   "metadata": {},
   "outputs": [],
   "source": [
    "# 99%\n",
    "pca = decomposition.PCA(n_components=4)\n",
    "new_feature = pca.fit_transform(feature_matrix2)\n",
    "\n",
    "new_kmeans = KMeans(n_clusters = 3)\n",
    "new_kmeans.fit(new_feature)\n",
    "new_cluster = new_kmeans.predict(new_feature)\n",
    "\n",
    "purity_scores.append(purity_score(class_matrix,new_cluster))\n",
    "capture_variances.append(sum(pca.explained_variance_ratio_))"
   ]
  },
  {
   "cell_type": "code",
   "execution_count": 33,
   "metadata": {},
   "outputs": [
    {
     "data": {
      "text/plain": [
       "Text(0, 0.5, 'purity_scores')"
      ]
     },
     "execution_count": 33,
     "metadata": {},
     "output_type": "execute_result"
    },
    {
     "data": {
      "image/png": "[encoded data removed]",
      "text/plain": [
       "<Figure size 432x288 with 1 Axes>"
      ]
     },
     "metadata": {
      "needs_background": "light"
     },
     "output_type": "display_data"
    }
   ],
   "source": [
    "plt.plot(capture_variances,purity_scores)\n",
    "plt.xlabel(\"Variance captured\")\n",
    "plt.ylabel(\"purity_scores\")"
   ]
  },
  {
   "cell_type": "markdown",
   "metadata": {
    "colab_type": "text",
    "id": "8RmhzV_MK-ia"
   },
   "source": [
    "3. Let's assume you have two datas ets one is linear and another is curved structural data.\n",
    "    - Can we apply PCA on these datasets? Justify your answer. __(3 marks)__ \n"
   ]
  },
  {
   "cell_type": "code",
   "execution_count": 34,
   "metadata": {},
   "outputs": [
    {
     "data": {
      "image/png": "[encoded data removed]",
      "text/plain": [
       "<Figure size 432x288 with 1 Axes>"
      ]
     },
     "metadata": {
      "needs_background": "light"
     },
     "output_type": "display_data"
    }
   ],
   "source": [
    "from sklearn.datasets import make_circles\n",
    "\n",
    "# Prepare a set of random concentric circle data\n",
    "X,y = make_circles(n_samples=1000,random_state=123,noise=0.1,factor=0.2)\n",
    "\n",
    "plt.scatter(X[y ==0,0],X[y==0,1],color='red',marker='^',alpha=0.5)\n",
    "plt.scatter(X[y ==1,0],X[y==1,1],color='blue',marker='o',alpha=0.5)\n",
    "plt.show()"
   ]
  },
  {
   "cell_type": "code",
   "execution_count": 35,
   "metadata": {
    "scrolled": true
   },
   "outputs": [
    {
     "data": {
      "image/png": "[encoded data removed]",
      "text/plain": [
       "<Figure size 504x216 with 2 Axes>"
      ]
     },
     "metadata": {
      "needs_background": "light"
     },
     "output_type": "display_data"
    }
   ],
   "source": [
    "# Use PCA to classify concentric data\n",
    "test_pca = PCA(n_components=2)\n",
    "X_test = test_pca.fit_transform(X)\n",
    "\n",
    "fig, ax = plt.subplots(nrows=1,ncols=2,figsize=(7,3))\n",
    "ax[0].scatter(X_test[y==0,0],X_test[y==0,1],\n",
    "             color='red',marker='^',alpha=0.5)\n",
    "ax[0].scatter(X_test[y==1,0],X_test[y==1,1],\n",
    "             color='blue',marker='o',alpha=0.5)\n",
    "\n",
    "ax[1].scatter(X_test[y==0,0],np.zeros((500,1)) + 0.02,\n",
    "             color='red',marker='^',alpha=0.5)\n",
    "ax[1].scatter(X_test[y==1,0],np.zeros((500,1)) - 0.02,\n",
    "             color='blue',marker='o',alpha=0.5)\n",
    "\n",
    "ax[0].set_xlabel('pc1')\n",
    "ax[0].set_ylabel('pc2')\n",
    "ax[1].set_ylim([-1,1])\n",
    "ax[1].set_yticks([])\n",
    "ax[1].set_xlabel('pc1')\n",
    "\n",
    "plt.show()"
   ]
  },
  {
   "cell_type": "code",
   "execution_count": null,
   "metadata": {},
   "outputs": [],
   "source": [
    "from sklearn.decomposition import KernelPCA\n",
    "# Use KPCA to classify concentric data\n",
    "kpca = KernelPCA(kernel=\"rbf\",fit_inverse_transform=True,gamma=15)\n",
    "X_kpca = kpca.fit_transform(X)\n",
    "X_back = kpca.inverse_transform(X_kpca)\n",
    "\n",
    "fig, ax = plt.subplots(nrows=1,ncols=2,figsize=(7,3))\n",
    "ax[0].scatter(X_kpca[y==0,0],X_kpca[y==0,1],\n",
    "             color='red',marker='^',alpha=0.5)\n",
    "ax[0].scatter(X_kpca[y==1,0],X_kpca[y==1,1],\n",
    "             color='blue',marker='o',alpha=0.5)\n",
    "\n",
    "ax[1].scatter(X_kpca[y==0,0],np.zeros((500,1)) + 0.02,\n",
    "             color='red',marker='^',alpha=0.5)\n",
    "ax[1].scatter(X_kpca[y==1,0],np.zeros((500,1)) - 0.02,\n",
    "             color='blue',marker='o',alpha=0.5)\n",
    "\n",
    "ax[0].set_xlabel('pc1')\n",
    "ax[0].set_ylabel('pc2')\n",
    "ax[1].set_ylim([-1,1])\n",
    "ax[1].set_yticks([])\n",
    "ax[1].set_xlabel('pc1')\n",
    "\n",
    "plt.show()"
   ]
  },
  {
   "cell_type": "markdown",
   "metadata": {
    "colab": {},
    "colab_type": "code",
    "id": "_9NpVDBwKqD-"
   },
   "source": [
    "It can be seen from the above figure that pca cannot apply for the curve structure data. But we can use the kernelPCA to aplly for the curve structure data."
   ]
  }
 ],
 "metadata": {
  "colab": {
   "collapsed_sections": [],
   "name": "A2.ipynb",
   "provenance": []
  },
  "kernelspec": {
   "display_name": "Python 3",
   "language": "python",
   "name": "python3"
  },
  "language_info": {
   "codemirror_mode": {
    "name": "ipython",
    "version": 3
   },
   "file_extension": ".py",
   "mimetype": "text/x-python",
   "name": "python",
   "nbconvert_exporter": "python",
   "pygments_lexer": "ipython3",
   "version": "3.7.6"
  }
 },
 "nbformat": 4,
 "nbformat_minor": 1
}
